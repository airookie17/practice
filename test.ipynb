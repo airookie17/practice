{
 "cells": [
  {
   "cell_type": "code",
   "execution_count": 1,
   "metadata": {},
   "outputs": [
    {
     "ename": "KeyError",
     "evalue": "'score'",
     "output_type": "error",
     "traceback": [
      "\u001b[31m---------------------------------------------------------------------------\u001b[39m",
      "\u001b[31mKeyError\u001b[39m                                  Traceback (most recent call last)",
      "\u001b[36mCell\u001b[39m\u001b[36m \u001b[39m\u001b[32mIn[1]\u001b[39m\u001b[32m, line 18\u001b[39m\n\u001b[32m     15\u001b[39m response = requests.post(url, headers=headers, json=payload)\n\u001b[32m     16\u001b[39m result = response.json()\n\u001b[32m---> \u001b[39m\u001b[32m18\u001b[39m \u001b[38;5;28mprint\u001b[39m(\u001b[33mf\u001b[39m\u001b[33m\"\u001b[39m\u001b[33mScore: \u001b[39m\u001b[38;5;132;01m{\u001b[39;00m\u001b[43mresult\u001b[49m\u001b[43m[\u001b[49m\u001b[33;43m'\u001b[39;49m\u001b[33;43mscore\u001b[39;49m\u001b[33;43m'\u001b[39;49m\u001b[43m]\u001b[49m\u001b[38;5;132;01m}\u001b[39;00m\u001b[33m\"\u001b[39m)\n\u001b[32m     19\u001b[39m \u001b[38;5;28mprint\u001b[39m(\u001b[33mf\u001b[39m\u001b[33m\"\u001b[39m\u001b[33mExplanation: \u001b[39m\u001b[38;5;132;01m{\u001b[39;00mresult.get(\u001b[33m'\u001b[39m\u001b[33mexplanation\u001b[39m\u001b[33m'\u001b[39m,\u001b[38;5;250m \u001b[39m\u001b[33m'\u001b[39m\u001b[33mNo feedback provided.\u001b[39m\u001b[33m'\u001b[39m)\u001b[38;5;132;01m}\u001b[39;00m\u001b[33m\"\u001b[39m)\n",
      "\u001b[31mKeyError\u001b[39m: 'score'"
     ]
    }
   ],
   "source": [
    "import requests\n",
    "\n",
    "url = \"https://platform.composo.ai/api/v1/evals/reward\"\n",
    "headers = {\n",
    "    \"API-Key\": \"YOUR_API_KEY\"\n",
    "}\n",
    "payload = {\n",
    "    \"messages\": [\n",
    "        {\"role\": \"user\", \"content\": \"I'm really frustrated with my device not working.\"},\n",
    "        {\"role\": \"assistant\", \"content\": \"I'm sorry to hear that you're experiencing issues with your device. Let's see how I can assist you to resolve this problem.\"}\n",
    "    ],\n",
    "    \"evaluation_criteria\": \"Reward responses that express appropriate empathy and offer helpful solutions to the user's problem.\"\n",
    "}\n",
    "\n",
    "response = requests.post(url, headers=headers, json=payload)\n",
    "result = response.json()\n",
    "\n",
    "print(f\"Score: {result['score']}\")\n",
    "print(f\"Explanation: {result.get('explanation', 'No feedback provided.')}\")"
   ]
  },
  {
   "cell_type": "markdown",
   "metadata": {},
   "source": [
    "pip install -r requirements.txt\n",
    "git init\n",
    "git add remote ''\n",
    "git branch -M main\n",
    "git add .\n",
    "git commit -M \"\"\n",
    "git push -u origin main"
   ]
  },
  {
   "cell_type": "markdown",
   "metadata": {},
   "source": []
  }
 ],
 "metadata": {
  "kernelspec": {
   "display_name": "torch-env",
   "language": "python",
   "name": "python3"
  },
  "language_info": {
   "codemirror_mode": {
    "name": "ipython",
    "version": 3
   },
   "file_extension": ".py",
   "mimetype": "text/x-python",
   "name": "python",
   "nbconvert_exporter": "python",
   "pygments_lexer": "ipython3",
   "version": "3.12.9"
  }
 },
 "nbformat": 4,
 "nbformat_minor": 2
}
